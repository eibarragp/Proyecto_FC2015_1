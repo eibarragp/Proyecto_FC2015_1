{
 "metadata": {
  "language": "Julia",
  "name": "",
  "signature": "sha256:8615db533c4d3a156b3e9b6ee34abc144b2437d239624d273bbeac8e68a75146"
 },
 "nbformat": 3,
 "nbformat_minor": 0,
 "worksheets": [
  {
   "cells": [
    {
     "cell_type": "heading",
     "level": 2,
     "metadata": {},
     "source": [
      "Matriz de Transferencia"
     ]
    },
    {
     "cell_type": "markdown",
     "metadata": {},
     "source": [
      "Estudiaremos los sistemas multicapa. Para esto haremos uso de la matriz de transferencia. Consideraremos incidencia normal. Ya que no hacerlo as\u00ed debemos introducir m\u00e1s complejidades en el c\u00f3digo, puesto que en alg\u00fan momento se presentar\u00e1 el \u00e1ngulo cr\u00edtico (en el caso de diel\u00e9ctricos hay RTI, pero en caso de metales tenemos ondas evanescentes). Por lo tanto nos restringimos al estudio de sistemas multicapa con incidencia normal."
     ]
    },
    {
     "cell_type": "markdown",
     "metadata": {},
     "source": [
      "|![diagrama](Figuras/Diagrama.png)|\n",
      "|:-----------:|\n",
      "|Campos en las fronteras|"
     ]
    },
    {
     "cell_type": "markdown",
     "metadata": {},
     "source": [
      "La matriz de transferencia relaciona los campos en dos fronteras adyacentes $\\mathcal{M}$. Es decir:\n",
      "\n",
      "$$\n",
      "\\begin{bmatrix}\n",
      "E_{I}\\\\\n",
      "H_{I}\n",
      "\\end{bmatrix}\n",
      "=\n",
      "\\mathcal{M}_{I}\n",
      "\\begin{bmatrix}\n",
      "E_{II}\\\\\n",
      "H_{II}\n",
      "\\end{bmatrix}\n",
      "$$\n",
      "\n",
      "y la matriz de transferencia para esta frontera es:\n",
      "\n",
      "$$\n",
      "\\mathcal{M}_{I}\n",
      "=\n",
      "\\begin{bmatrix}\n",
      "\\cos(k_oh) &  \\mathcal{i} \\sin(k_oh)/\\gamma_{1} \\\\\n",
      "\\gamma_{1} \\mathcal{i} \\sin(k_oh) & \\cos(k_oh)\\\\\n",
      "\\end{bmatrix}\n",
      "$$\n",
      "\n",
      "donde:\n",
      "\n",
      "\\begin{align}\n",
      "\\gamma_{1} &= \\sqrt{\\frac{\\epsilon_o}{\\mu_o}} n_1(\\omega) \\cos(\\theta_{iII}) \\\\\n",
      "\\gamma_{1} &= \\sqrt{\\frac{\\epsilon_o}{\\mu_o}} \\frac{n_1(\\omega)}{\\cos(\\theta_{iII})}\n",
      "\\end{align}\n",
      "\n",
      "Donde la primera expresi\u00f3n es para polarizaci\u00f3n en modo TE y la segunda es para polarizaci\u00f3n en modo TM.<p>\n",
      "\n",
      "Adem\u00e1s, la onda al atravesar la pel\u00edcula (\u00edndice de refraccion $n_1$) sufre un cambio de fase de\n",
      "\n",
      "$$\n",
      "k_o(2 n_1 d \\cos(\\theta_{iII}))/2\n",
      "$$\n",
      "\n",
      "Que nosotros denotamos como \n",
      "$$k_o h$$\n",
      "\n",
      "donde $d$ es el grosor de la pel\u00edcula."
     ]
    },
    {
     "cell_type": "markdown",
     "metadata": {},
     "source": [
      "Ahora si nuestro sistema es compuesto de $p$ pel\u00edculas o plaquitas, cada una con su respectiva $n(\\omega)$ y su $d$. Entonces \n",
      "\n",
      "$$\n",
      "\\begin{bmatrix}\n",
      "E_{I}\\\\\n",
      "H_{I}\n",
      "\\end{bmatrix}\n",
      "=\n",
      "\\mathcal{M}_{I}\\mathcal{M}_{II} \\ldots \\mathcal{M}_{p}\n",
      "\\begin{bmatrix}\n",
      "E_{p+1}\\\\\n",
      "H_{p+1}\n",
      "\\end{bmatrix}\n",
      "$$\n",
      "\n",
      "Y la matriz de transferencia de todo el sistema es:\n",
      "\n",
      "$$\n",
      "\\mathcal{M}_{I}\n",
      "=\n",
      "\\mathcal{M}_{I}\\mathcal{M}_{II} \\ldots \\mathcal{M}_{p}\n",
      "=\n",
      "\\begin{bmatrix}\n",
      "m_{11} & m_{12}\\\\\n",
      "m_{21} & m_{22}\n",
      "\\end{bmatrix}\n",
      "$$\n",
      "\n",
      "Haciendo uso de las condiciones de frontera y de que (para el modo transversal TE, \u2014despu\u00e9s con la suposici\u00f3n de incidencia normal perderemos el \u00e1ngulo, por lo tanto no importa en la deducci\u00f3n\u2014)\n",
      "\n",
      "\\begin{align}\n",
      "\\gamma_{o} &= \\sqrt{\\frac{\\epsilon_o}{\\mu_o}} n_o(\\omega) \\cos(\\theta_{iI}) \\\\\n",
      "\\gamma_{s} &= \\sqrt{\\frac{\\epsilon_o}{\\mu_o}} n_s(\\omega)\\cos(\\theta_{tII})\n",
      "\\end{align}\n",
      "\n",
      "encontramos que los coeficientes de amplitud de reflexi\u00f3n y transmisi\u00f3n vienen dados por:\n",
      "\n",
      "\\begin{align}\n",
      "r &= \\frac{\\gamma_o m_{11} + \\gamma_o\\gamma_s m_{12} - m_{21} - \\gamma_s m_{22}}{\\gamma_o m_{11} + \\gamma_o\\gamma_s m_{12} + m_{21} + \\gamma_s m_{22}} \\\\\n",
      "\\\\\n",
      "t &= \\frac{2\\gamma_o}{\\gamma_o m_{11} + \\gamma_o\\gamma_s m_{12} + m_{21} + \\gamma_s m_{22}}\n",
      "\\end{align}\n",
      "\n",
      "Y los coeficientes de transmitancia y reflectancia son:\n",
      "\n",
      "$$R=\\vert r\\vert^2$$\n",
      "$$T=\\frac{n_s(\\omega)}{n_o(\\omega)} \\vert t \\vert ^2 $$"
     ]
    },
    {
     "cell_type": "markdown",
     "metadata": {},
     "source": [
      "En nuestro caso, como consideramos incidencia normal $\\theta_{iI}=\\theta_{iII}=\\theta{tII}=0$, las expresiones anteriores se reducen a:\n",
      "\n",
      "\\begin{align}\n",
      "\\gamma_{o} &= \\sqrt{\\frac{\\epsilon_o}{\\mu_o}} n_o(\\omega)  \\\\\n",
      "\\gamma_{s} &= \\sqrt{\\frac{\\epsilon_o}{\\mu_o}} n_s(\\omega) \\\\\n",
      "\\gamma_{1} &= \\sqrt{\\frac{\\epsilon_o}{\\mu_o}} n_1(\\omega)\\\\\n",
      "k_o h &= k_o n_1(\\omega) d\n",
      "\\end{align}\n",
      "\n",
      "Pero \n",
      "\n",
      "\\begin{align}\n",
      "k_o &= \\frac{\\omega_o}{v_o}\n",
      "\\end{align}\n",
      "\n",
      "Entonces \n",
      "\n",
      "$$k_o h = \\frac{\\omega_o}{v_o}n_1(\\omega) d$$"
     ]
    },
    {
     "cell_type": "heading",
     "level": 2,
     "metadata": {},
     "source": [
      "Vamos a implementar las funciones que se requieren para hacerlo."
     ]
    },
    {
     "cell_type": "heading",
     "level": 3,
     "metadata": {},
     "source": [
      "Ejemplo 1"
     ]
    },
    {
     "cell_type": "markdown",
     "metadata": {},
     "source": [
      "Consideremos un caso simple en el cual tenemos dos placas, que cumplan que $k_o h= \\pi/2$. Y consideraremos que los \u00edndices de refracci\u00f3n son constantes."
     ]
    },
    {
     "cell_type": "code",
     "collapsed": false,
     "input": [
      "using PyPlot"
     ],
     "language": "python",
     "metadata": {},
     "outputs": [
      {
       "output_type": "stream",
       "stream": "stderr",
       "text": [
        "INFO: Loading help data...\n"
       ]
      }
     ],
     "prompt_number": 1
    },
    {
     "cell_type": "code",
     "collapsed": false,
     "input": [
      "\u03f5_o=8.85e-12;\n",
      "\u03bc_o=(4e-7)*\u03c0;\n",
      "K=sqrt(\u03f5_o/\u03bc_o);"
     ],
     "language": "python",
     "metadata": {},
     "outputs": [],
     "prompt_number": 329
    },
    {
     "cell_type": "code",
     "collapsed": false,
     "input": [
      "K"
     ],
     "language": "python",
     "metadata": {},
     "outputs": [
      {
       "metadata": {},
       "output_type": "pyout",
       "prompt_number": 330,
       "text": [
        "0.00265379091712523"
       ]
      }
     ],
     "prompt_number": 330
    },
    {
     "cell_type": "code",
     "collapsed": false,
     "input": [
      "no(\u03c9)=1.0\n",
      "n1(\u03c9)=1.5\n",
      "n2(\u03c9)=1.8\n",
      "ns(\u03c9)=1.0"
     ],
     "language": "python",
     "metadata": {},
     "outputs": [
      {
       "metadata": {},
       "output_type": "pyout",
       "prompt_number": 346,
       "text": [
        "ns (generic function with 1 method)"
       ]
      }
     ],
     "prompt_number": 346
    },
    {
     "cell_type": "code",
     "collapsed": false,
     "input": [
      "function Mt(n,d,koh,fase,\u03c9)\n",
      "    Y(\u03c9)=K*n(\u03c9)\n",
      "    if fase==true\n",
      "        Mt11=cos(koh)\n",
      "        Mt12=(im*sin(koh))/Y(\u03c9)\n",
      "        Mt21=im*sin(koh)*Y(\u03c9)\n",
      "        Mt22=cos(koh)\n",
      "    else\n",
      "        #Falta implementar bien esta parte\n",
      "        Mt11=cos(koh)\n",
      "        Mt12=(im*sin(koh))/Y(\u03c9)\n",
      "        Mt21=im*sin(koh)*Y(\u03c9)\n",
      "        Mt22=cos(koh)\n",
      "    end\n",
      "    [Mt11 Mt12; Mt21 Mt22]\n",
      "end"
     ],
     "language": "python",
     "metadata": {},
     "outputs": [
      {
       "metadata": {},
       "output_type": "pyout",
       "prompt_number": 332,
       "text": [
        "Mt (generic function with 1 method)"
       ]
      }
     ],
     "prompt_number": 332
    },
    {
     "cell_type": "code",
     "collapsed": false,
     "input": [
      "function RT(M,no,ns,\u03c9)\n",
      "    Yo(\u03c9)=K*no(\u03c9)\n",
      "    Ys(\u03c9)=K*ns(\u03c9)\n",
      "    \n",
      "    numerador_r= Yo(\u03c9)*M[1,1] + Yo(\u03c9)*Ys(\u03c9)*M[1,2] - M[2,1] - Ys(\u03c9)M[2,2]\n",
      "    numerador_t= 2*Yo(\u03c9)\n",
      "    denominador= Yo(\u03c9)*M[1,1] + Yo(\u03c9)*Ys(\u03c9)*M[1,2] + M[2,1] + Ys(\u03c9)M[2,2]\n",
      "    \n",
      "    r=numerador_r/denominador\n",
      "    t=numerador_t/denominador\n",
      "    \n",
      "    R=(norm(r))^2\n",
      "    T=(ns(\u03c9)/no(\u03c9))*(norm(t))^2\n",
      "    \n",
      "    [R,T]\n",
      "end"
     ],
     "language": "python",
     "metadata": {},
     "outputs": [
      {
       "metadata": {},
       "output_type": "pyout",
       "prompt_number": 342,
       "text": [
        "RT (generic function with 1 method)"
       ]
      }
     ],
     "prompt_number": 342
    },
    {
     "cell_type": "code",
     "collapsed": false,
     "input": [
      "M1=Mt(n1,0,\u03c0/2,true,10)\n",
      "M2=Mt(n2,0,\u03c0/2,true,10)"
     ],
     "language": "python",
     "metadata": {},
     "outputs": [
      {
       "metadata": {},
       "output_type": "pyout",
       "prompt_number": 343,
       "text": [
        "2x2 Array{Complex{Float64},2}:\n",
        " 6.12323e-17+0.0im                 0.0+209.344im\n",
        "         0.0+0.00477682im  6.12323e-17+0.0im    "
       ]
      }
     ],
     "prompt_number": 343
    },
    {
     "cell_type": "code",
     "collapsed": false,
     "input": [
      "Mtotal=M1*M2\n",
      "Coef=RT(M1,no,ns,10)"
     ],
     "language": "python",
     "metadata": {},
     "outputs": [
      {
       "metadata": {},
       "output_type": "pyout",
       "prompt_number": 347,
       "text": [
        "2-element Array{Float64,1}:\n",
        " 0.147929\n",
        " 0.852071"
       ]
      }
     ],
     "prompt_number": 347
    },
    {
     "cell_type": "code",
     "collapsed": false,
     "input": [
      "Valores=Vector{Float64}[]\n",
      "for potencia in 1:30\n",
      "    Mtotal2=Mtotal^potencia\n",
      "    Coef2=RT(Mtotal2,no,ns,10)\n",
      "    push!(Valores,Coef2)\n",
      "end\n",
      "Valores=hcat(Valores...)';\n",
      "figure(figsize=(5,4))\n",
      "plot([1:30],Valores[:,1])\n",
      "plot([1:30],Valores[:,2])"
     ],
     "language": "python",
     "metadata": {},
     "outputs": [
      {
       "metadata": {},
       "output_type": "display_data",
       "png": "[encoded data removed]",
       "text": [
        "Figure(PyObject <matplotlib.figure.Figure object at 0x11435e550>)"
       ]
      },
      {
       "metadata": {},
       "output_type": "pyout",
       "prompt_number": 345,
       "text": [
        "1-element Array{Any,1}:\n",
        " PyObject <matplotlib.lines.Line2D object at 0x112cd8cd0>"
       ]
      }
     ],
     "prompt_number": 345
    },
    {
     "cell_type": "code",
     "collapsed": false,
     "input": [
      "no(\u03c9)=1.0\n",
      "n1(\u03c9)=1.5\n",
      "n2(\u03c9)=1.8\n",
      "n3(\u03c9)=2.1\n",
      "n4(\u03c9)=1.1\n",
      "ns(\u03c9)=1.0"
     ],
     "language": "python",
     "metadata": {},
     "outputs": [
      {
       "metadata": {},
       "output_type": "pyout",
       "prompt_number": 317,
       "text": [
        "ns (generic function with 1 method)"
       ]
      }
     ],
     "prompt_number": 317
    },
    {
     "cell_type": "code",
     "collapsed": false,
     "input": [
      "Mo=Mt(no,0,\u03c0/2,true,10)\n",
      "M1=Mt(n1,0,\u03c0/2,true,10)\n",
      "M2=Mt(n2,0,\u03c0/2,true,10)\n",
      "M3=Mt(n3,0,\u03c0/2,true,10)\n",
      "M4=Mt(n4,0,\u03c0/2,true,10)"
     ],
     "language": "python",
     "metadata": {},
     "outputs": [
      {
       "metadata": {},
       "output_type": "pyout",
       "prompt_number": 348,
       "text": [
        "2x2 Array{Complex{Float64},2}:\n",
        " 6.12323e-17+0.0im                 0.0+342.563im\n",
        "         0.0+0.00291917im  6.12323e-17+0.0im    "
       ]
      }
     ],
     "prompt_number": 348
    },
    {
     "cell_type": "code",
     "collapsed": false,
     "input": [
      "Mtotal=M1*Mo*M1\n",
      "Coef=RT(Mtotal,no,ns,10)"
     ],
     "language": "python",
     "metadata": {},
     "outputs": [
      {
       "metadata": {},
       "output_type": "pyout",
       "prompt_number": 349,
       "text": [
        "2-element Array{Float64,1}:\n",
        " 0.449038\n",
        " 0.550962"
       ]
      }
     ],
     "prompt_number": 349
    },
    {
     "cell_type": "code",
     "collapsed": false,
     "input": [
      "Valores=Vector{Float64}[]\n",
      "for potencia in 1:30\n",
      "    Mtotal2=Mtotal^potencia\n",
      "    Coef2=RT(Mtotal2,no,ns,10)\n",
      "    push!(Valores,Coef2)\n",
      "end\n",
      "Valores=hcat(Valores...)';\n",
      "figure(figsize=(5,4))\n",
      "plot([1:30],Valores[:,1])\n",
      "plot([1:30],Valores[:,2])\n",
      "plot([1:30],Valores[:,1]+Valores[:,2])\n",
      "ylim(-0.2,1.2)"
     ],
     "language": "python",
     "metadata": {},
     "outputs": [
      {
       "output_type": "stream",
       "stream": "stdout",
       "text": [
        "0.49176224822080683"
       ]
      },
      {
       "output_type": "stream",
       "stream": "stdout",
       "text": [
        "\n",
        "0.5082377517791932\n",
        "4.504697142782787e-31\n",
        "1.0\n",
        "0.49176224822080683\n",
        "0.5082377517791932\n",
        "1.8018788571131148e-30\n",
        "1.0\n",
        "0.49176224822080683\n",
        "0.5082377517791932\n",
        "4.054227428504507e-30\n",
        "1.0\n",
        "0.49176224822080683\n",
        "0.5082377517791932\n",
        "7.207515428452459e-30\n",
        "1.0\n",
        "0.49176224822080683\n",
        "0.5082377517791932\n",
        "1.1261742856956964e-29\n",
        "1.0\n",
        "0.49176224822080683\n",
        "0.5082377517791932\n",
        "1.621690971401803e-29\n",
        "1.0\n",
        "0.49176224822080683\n",
        "0.5082377517791932\n",
        "2.2073015999635646e-29\n",
        "1.0\n",
        "0.49176224822080683\n",
        "0.5082377517791932\n",
        "2.8830061713809836e-29\n",
        "1.0\n",
        "0.49176224822080683\n",
        "0.5082377517791932\n",
        "3.648804685654057e-29\n",
        "1.0\n",
        "0.49176224822080683\n",
        "0.5082377517791932\n",
        "4.5046971427827857e-29\n",
        "1.0\n",
        "0.49176224822080683\n",
        "0.5082377517791932\n",
        "5.45068354276717e-29\n",
        "1.0\n",
        "0.49176224822080683\n",
        "0.5082377517791932\n",
        "6.486763885607212e-29\n",
        "1.0\n",
        "0.49176224822080683\n",
        "0.5082377517791932\n",
        "7.61293817130291e-29\n",
        "1.0\n",
        "0.49176224822080683\n",
        "0.5082377517791932\n",
        "8.829206399854258e-29\n",
        "1.0\n",
        "0.49176224822080683\n",
        "0.5082377517791932\n",
        "1.0135568571261268e-28\n",
        "1.0\n"
       ]
      },
      {
       "metadata": {},
       "output_type": "display_data",
       "png": "[encoded data removed]",
       "text": [
        "Figure(PyObject <matplotlib.figure.Figure object at 0x112fa7410>)"
       ]
      },
      {
       "metadata": {},
       "output_type": "pyout",
       "prompt_number": 320,
       "text": [
        "(-0.2,1.2)"
       ]
      }
     ],
     "prompt_number": 320
    },
    {
     "cell_type": "code",
     "collapsed": false,
     "input": [
      "Mtotal=M4*M2*M3*M4*M1\n",
      "Coef=RT(Mtotal,no,ns,10)\n",
      "Valores=Vector{Float64}[]\n",
      "for potencia in 1:30\n",
      "    Mtotal2=Mtotal^potencia\n",
      "    Coef2=RT(Mtotal2,no,ns,10)\n",
      "    push!(Valores,Coef2)\n",
      "end\n",
      "Valores=hcat(Valores...)';\n",
      "figure(figsize=(5,4))\n",
      "plot([1:30],Valores[:,1])\n",
      "plot([1:30],Valores[:,2])\n",
      "plot([1:30],Valores[:,1]+Valores[:,2])\n",
      "ylim(-0.2,1.2)"
     ],
     "language": "python",
     "metadata": {},
     "outputs": [
      {
       "output_type": "stream",
       "stream": "stdout",
       "text": [
        "0."
       ]
      },
      {
       "output_type": "stream",
       "stream": "stdout",
       "text": [
        "2577514792899411\n",
        "0.7422485207100589\n",
        "0.2577514792899411\n",
        "0.7422485207100589\n",
        "1.854529869407004e-31\n",
        "1.0\n",
        "0.257751479289941\n",
        "0.742248520710059\n",
        "7.418119477628014e-31\n",
        "1.0\n",
        "0.25775147928994097\n",
        "0.7422485207100591\n",
        "1.6690768824663033e-30\n",
        "1.0\n",
        "0.2577514792899411\n",
        "0.7422485207100589\n",
        "2.9672477910512068e-30\n",
        "1.0\n",
        "0.25775147928994097\n",
        "0.7422485207100591\n",
        "4.636324673517508e-30\n",
        "1.0\n",
        "0.2577514792899411\n",
        "0.7422485207100589\n",
        "6.676307529865213e-30\n",
        "1.0\n",
        "0.2577514792899411\n",
        "0.7422485207100589\n",
        "9.087196360094318e-30\n",
        "1.0\n",
        "0.257751479289941\n",
        "0.742248520710059\n",
        "1.1868991164204823e-29\n",
        "1.0\n",
        "0.25775147928994113\n",
        "0.7422485207100589\n",
        "1.5021691942196727e-29\n",
        "1.0\n",
        "0.257751479289941\n",
        "0.742248520710059\n",
        "1.854529869407003e-29\n",
        "1.0\n",
        "0.257751479289941\n",
        "0.742248520710059\n",
        "2.2439811419824744e-29\n",
        "1.0\n",
        "0.25775147928994113\n",
        "0.7422485207100589\n",
        "2.670523011946086e-29\n",
        "1.0\n",
        "0.257751479289941\n",
        "0.742248520710059\n",
        "3.1341554792978367e-29\n",
        "1.0\n",
        "0.25775147928994113\n",
        "0.7422485207100589\n",
        "3.634878544037727e-29\n",
        "1.0\n",
        "0.2577514792899411\n",
        "0.7422485207100589\n",
        "4.172692206165757e-29\n",
        "1.0\n"
       ]
      },
      {
       "metadata": {},
       "output_type": "display_data",
       "png": "[encoded data removed]",
       "text": [
        "Figure(PyObject <matplotlib.figure.Figure object at 0x113148050>)"
       ]
      },
      {
       "metadata": {},
       "output_type": "pyout",
       "prompt_number": 321,
       "text": [
        "(-0.2,1.2)"
       ]
      }
     ],
     "prompt_number": 321
    },
    {
     "cell_type": "code",
     "collapsed": false,
     "input": [],
     "language": "python",
     "metadata": {},
     "outputs": [],
     "prompt_number": 322
    },
    {
     "cell_type": "markdown",
     "metadata": {},
     "source": [
      "**Lo ideal ser\u00e1 construir una clase de elementos o sustratos. Esta clase tendr\u00e1 como elementos a los sustratos. Estos sustratos tendr\u00e1n como propiedades su $n(\\omega)$ y su $d$.**"
     ]
    },
    {
     "cell_type": "markdown",
     "metadata": {},
     "source": [
      "El modelo de Drude se utiliza para modelar la respuesta de conductores perfectos. La relaci\u00f3n entre el \u00edndice de refracci\u00f3n y la funci\u00f3n diel\u00e9ctrica es:\n",
      "\n",
      "$$n(\\omega)=\\sqrt{\\epsilon(\\omega)\\mu}$$\n",
      "\n",
      "Y la funci\u00f3n diel\u00e9ctrica se modela como:\n",
      "\n",
      "$$\\epsilon(\\omega)= 1 - \\frac{\\omega_p^2}{\\omega^2 +\\mathcal{i}\\gamma\\omega}$$\n",
      "\n",
      "Que puede ser reescrito como:\n",
      "\n",
      "$$\\epsilon(\\omega) = 1 - \\frac{1}{\\Omega\\left(\\Omega + \\mathcal{i}\\Omega_{cp}\\right)}$$"
     ]
    },
    {
     "cell_type": "markdown",
     "metadata": {},
     "source": [
      "Utilizando las variables adimensionales:\n",
      "\n",
      "\\begin{align}\n",
      "\\Omega &= \\frac{\\omega}{\\omega_p} \\\\\n",
      "\\Omega_{cp} &= \\frac{\\gamma}{\\omega_p}\n",
      "\\end{align}"
     ]
    },
    {
     "cell_type": "markdown",
     "metadata": {},
     "source": [
      "Consideremos:\n",
      "\n",
      "\\begin{align}\n",
      "\\omega_{p} &= 9.08 \\, eV\\\\\n",
      "\\gamma &= 0.07 \\, eV\\\\\n",
      "\\Omega_{cp} & =7.71 \\times{10^{-3}}\n",
      "\\end{align}"
     ]
    },
    {
     "cell_type": "code",
     "collapsed": false,
     "input": [
      "no(\u03c9)=1.0\n",
      "n1(\u03c9)=1.5\n",
      "n2(\u03c9)=sqrt( 1 - (1/((\u03c9^2) + ((7.71e-3)*im*\u03c9))))\n",
      "ns(\u03c9)=1.0"
     ],
     "language": "python",
     "metadata": {},
     "outputs": [
      {
       "metadata": {},
       "output_type": "pyout",
       "prompt_number": 323,
       "text": [
        "ns (generic function with 1 method)"
       ]
      }
     ],
     "prompt_number": 323
    },
    {
     "cell_type": "code",
     "collapsed": false,
     "input": [
      "M1=Mt(n1,0,\u03c0/2,true,0.7)\n",
      "M2=Mt(n2,0,\u03c0/2,true,0.7)"
     ],
     "language": "python",
     "metadata": {},
     "outputs": [
      {
       "metadata": {},
       "output_type": "pyout",
       "prompt_number": 324,
       "text": [
        "2x2 Array{Complex{Float64},2}:\n",
        "          6.12323e-17+0.0im      369.336+3.98821im\n",
        " -0.00270724+2.92337e-5im    6.12323e-17+0.0im    "
       ]
      }
     ],
     "prompt_number": 324
    },
    {
     "cell_type": "code",
     "collapsed": false,
     "input": [
      "#MtotalAu=M1*M2\n",
      "MtotalAu=M2\n",
      "CoefAu=RT(MtotalAu,no,ns,0.7)\n",
      "println(CoefAu[1])\n",
      "println(CoefAu[2])\n",
      "println(CoefAu[1]+CoefAu[2])"
     ],
     "language": "python",
     "metadata": {},
     "outputs": [
      {
       "output_type": "stream",
       "stream": "stdout",
       "text": [
        "1936."
       ]
      },
      {
       "output_type": "stream",
       "stream": "stdout",
       "text": [
        "0693033509024\n",
        "-1935.0693033509024\n",
        "1936.0693033509024\n",
        "-1935.0693033509024\n",
        "1.0\n"
       ]
      }
     ],
     "prompt_number": 325
    },
    {
     "cell_type": "code",
     "collapsed": false,
     "input": [
      "Valores=Vector{Float64}[]\n",
      "for potencia in 1:10\n",
      "    MtotalAu=MtotalAu^potencia\n",
      "    CoefAu=RT(MtotalAu,no,ns,0.01)\n",
      "    push!(Valores,CoefAu)\n",
      "end\n",
      "Valores=hcat(Valores...)';\n",
      "figure(figsize=(5,4))\n",
      "plot([1:10],Valores[:,1])\n",
      "plot([1:10],Valores[:,2])"
     ],
     "language": "python",
     "metadata": {},
     "outputs": [
      {
       "output_type": "stream",
       "stream": "stdout",
       "text": [
        "1936."
       ]
      },
      {
       "output_type": "stream",
       "stream": "stdout",
       "text": [
        "0693033509024\n",
        "-1935.0693033509024\n",
        "2.670589478771415e-32\n",
        "1.0\n",
        "1.0682358264858296e-31\n",
        "1.0\n",
        "2.1631775218761972e-30\n",
        "1.0\n",
        "5.407943804690493e-29\n",
        "1.0\n",
        "1.9396558547582913e-27\n",
        "1.0\n",
        "9.524476638352095e-26\n",
        "1.0\n",
        "6.097279045959925e-24\n",
        "1.0\n",
        "4.938687075788411e-22\n",
        "1.0\n",
        "4.938679812362623e-20\n",
        "1.0\n"
       ]
      },
      {
       "metadata": {},
       "output_type": "display_data",
       "png": "[encoded data removed]",
       "text": [
        "Figure(PyObject <matplotlib.figure.Figure object at 0x1136b1f90>)"
       ]
      },
      {
       "metadata": {},
       "output_type": "pyout",
       "prompt_number": 326,
       "text": [
        "1-element Array{Any,1}:\n",
        " PyObject <matplotlib.lines.Line2D object at 0x11231cdd0>"
       ]
      }
     ],
     "prompt_number": 326
    },
    {
     "cell_type": "code",
     "collapsed": false,
     "input": [
      "luz_visible=[0.001:0.001:1]\n",
      "Coef=Vector{Float64}[]\n",
      "\n",
      "for \u03c9 in luz_visible\n",
      "    M1=Mt(n1,0,\u03c0/2,true,\u03c9)\n",
      "    M2=Mt(n2,0,\u03c0/2,true,\u03c9)\n",
      "    Mtotal=M2\n",
      "    push!(Coef,RT(Mtotal,no,ns,\u03c9))\n",
      "end\n",
      "RefTrans=hcat(Coef...)';"
     ],
     "language": "python",
     "metadata": {},
     "outputs": [],
     "prompt_number": 205
    },
    {
     "cell_type": "code",
     "collapsed": false,
     "input": [
      "plot(luz_visible,RefTrans[:,1],luz_visible,RefTrans[:,2])"
     ],
     "language": "python",
     "metadata": {},
     "outputs": [
      {
       "metadata": {},
       "output_type": "display_data",
       "png": "[encoded data removed]",
       "text": [
        "Figure(PyObject <matplotlib.figure.Figure object at 0x106b11850>)"
       ]
      },
      {
       "metadata": {},
       "output_type": "pyout",
       "prompt_number": 199,
       "text": [
        "2-element Array{Any,1}:\n",
        " PyObject <matplotlib.lines.Line2D object at 0x10b3ad990>\n",
        " PyObject <matplotlib.lines.Line2D object at 0x10b3adc10>"
       ]
      }
     ],
     "prompt_number": 199
    },
    {
     "cell_type": "code",
     "collapsed": false,
     "input": [
      "no(\u03c9)=1.0\n",
      "n1(\u03c9)=im\n",
      "#n2(\u03c9)=sqrt( 1 - (1/((\u03c9^2) + ((7.71e-3)*im*\u03c9))))\n",
      "ns(\u03c9)=1.0"
     ],
     "language": "python",
     "metadata": {},
     "outputs": [
      {
       "metadata": {},
       "output_type": "pyout",
       "prompt_number": 327,
       "text": [
        "ns (generic function with 1 method)"
       ]
      }
     ],
     "prompt_number": 327
    },
    {
     "cell_type": "code",
     "collapsed": false,
     "input": [
      "M1=Mt(n1,0,\u03c0/2,true,10)\n",
      "Coef=RT(M1,no,no,10)\n",
      "print(Coef)\n",
      "print(Coef[1]+Coef[2])"
     ],
     "language": "python",
     "metadata": {},
     "outputs": [
      {
       "output_type": "stream",
       "stream": "stdout",
       "text": [
        "1."
       ]
      },
      {
       "output_type": "stream",
       "stream": "stdout",
       "text": [
        "0668375152454283e33\n",
        "-1.0668375152454283e33\n",
        "[1.0668375152454283e33,-1.0668375152454283e33]0.0"
       ]
      }
     ],
     "prompt_number": 328
    },
    {
     "cell_type": "code",
     "collapsed": false,
     "input": [
      "1-1.0668e33"
     ],
     "language": "python",
     "metadata": {},
     "outputs": [
      {
       "metadata": {},
       "output_type": "pyout",
       "prompt_number": 338,
       "text": [
        "-1.0668e33"
       ]
      }
     ],
     "prompt_number": 338
    },
    {
     "cell_type": "code",
     "collapsed": false,
     "input": [],
     "language": "python",
     "metadata": {},
     "outputs": []
    }
   ],
   "metadata": {}
  }
 ]
}